{
 "cells": [
  {
   "cell_type": "code",
   "execution_count": 3,
   "id": "1021d542",
   "metadata": {},
   "outputs": [],
   "source": [
    "import pandas as pd\n",
    "import numpy as np\n",
    "from datetime import datetime\n",
    "import random\n",
    "from sklearn.model_selection import train_test_split\n",
    "from sklearn.preprocessing import OneHotEncoder\n",
    "from sklearn.compose import ColumnTransformer\n",
    "from sklearn.ensemble import RandomForestClassifier\n",
    "from sklearn.pipeline import Pipeline\n",
    "from sklearn.metrics import accuracy_score, classification_report\n",
    "import joblib"
   ]
  },
  {
   "cell_type": "markdown",
   "id": "bb51d9b1",
   "metadata": {},
   "source": [
    "### 📊 Generating real-time simulated dataset"
   ]
  },
  {
   "cell_type": "code",
   "execution_count": 4,
   "id": "90541312",
   "metadata": {},
   "outputs": [],
   "source": [
    "# For reproducibility\n",
    "random.seed(42)\n",
    "np.random.seed(42)\n",
    "\n",
    "# Base config\n",
    "products = {\n",
    "    \"Laptop\": (800, 1500),\n",
    "    \"Smartphone\": (300, 1000),\n",
    "    \"Monitor\": (150, 500),\n",
    "    \"Headphones\": (20, 200),\n",
    "    \"Keyboard\": (30, 150)\n",
    "}\n",
    "regions = [\"North\", \"South\", \"East\", \"West\"]\n",
    "device_types = [\"Mobile\", \"Desktop\", \"Tablet\"]"
   ]
  },
  {
   "cell_type": "code",
   "execution_count": 5,
   "id": "d62e2f67",
   "metadata": {},
   "outputs": [],
   "source": [
    "def simulate_entry():\n",
    "    product = random.choice(list(products.keys()))\n",
    "    price = round(np.random.normal(*products[product]), 2)\n",
    "    clicks = np.random.poisson(8)\n",
    "    region = random.choice(regions)\n",
    "    device = random.choices(device_types, weights=[0.6, 0.3, 0.1])[0]\n",
    "    user_age = int(np.clip(np.random.normal(35, 12), 18, 70))\n",
    "    session_time = max(1, np.random.exponential(scale=10))  # in minutes\n",
    "    is_returning_user = random.choices([True, False], weights=[0.4, 0.6])[0]\n",
    "\n",
    "    # Add noise and generate probabilistic target variable\n",
    "    noise = np.random.normal(0, 0.2)\n",
    "    value_score = (price / 1000) + (clicks / 20) + (session_time / 30) + (is_returning_user * 0.2) + noise\n",
    "    value = \"high\" if value_score > 1.6 else \"low\"\n",
    "\n",
    "    return {\n",
    "        \"timestamp\": datetime.now().strftime(\"%Y-%m-%d %H:%M:%S\"),\n",
    "        \"product\": product,\n",
    "        \"price\": max(10, price),\n",
    "        \"clicks\": max(0, clicks),\n",
    "        \"region\": region,\n",
    "        \"device_type\": device,\n",
    "        \"user_age\": user_age,\n",
    "        \"session_time\": round(session_time, 2),\n",
    "        \"is_returning_user\": is_returning_user,\n",
    "        \"value\": value\n",
    "    }\n"
   ]
  },
  {
   "cell_type": "code",
   "execution_count": 6,
   "id": "40a081b2",
   "metadata": {},
   "outputs": [
    {
     "data": {
      "text/html": [
       "<div>\n",
       "<style scoped>\n",
       "    .dataframe tbody tr th:only-of-type {\n",
       "        vertical-align: middle;\n",
       "    }\n",
       "\n",
       "    .dataframe tbody tr th {\n",
       "        vertical-align: top;\n",
       "    }\n",
       "\n",
       "    .dataframe thead th {\n",
       "        text-align: right;\n",
       "    }\n",
       "</style>\n",
       "<table border=\"1\" class=\"dataframe\">\n",
       "  <thead>\n",
       "    <tr style=\"text-align: right;\">\n",
       "      <th></th>\n",
       "      <th>timestamp</th>\n",
       "      <th>product</th>\n",
       "      <th>price</th>\n",
       "      <th>clicks</th>\n",
       "      <th>region</th>\n",
       "      <th>device_type</th>\n",
       "      <th>user_age</th>\n",
       "      <th>session_time</th>\n",
       "      <th>is_returning_user</th>\n",
       "      <th>value</th>\n",
       "    </tr>\n",
       "  </thead>\n",
       "  <tbody>\n",
       "    <tr>\n",
       "      <th>995</th>\n",
       "      <td>2025-04-14 15:35:18</td>\n",
       "      <td>Keyboard</td>\n",
       "      <td>10.00</td>\n",
       "      <td>7</td>\n",
       "      <td>East</td>\n",
       "      <td>Tablet</td>\n",
       "      <td>38</td>\n",
       "      <td>15.47</td>\n",
       "      <td>True</td>\n",
       "      <td>low</td>\n",
       "    </tr>\n",
       "    <tr>\n",
       "      <th>996</th>\n",
       "      <td>2025-04-14 15:35:18</td>\n",
       "      <td>Monitor</td>\n",
       "      <td>10.00</td>\n",
       "      <td>10</td>\n",
       "      <td>North</td>\n",
       "      <td>Mobile</td>\n",
       "      <td>31</td>\n",
       "      <td>3.83</td>\n",
       "      <td>False</td>\n",
       "      <td>low</td>\n",
       "    </tr>\n",
       "    <tr>\n",
       "      <th>997</th>\n",
       "      <td>2025-04-14 15:35:18</td>\n",
       "      <td>Laptop</td>\n",
       "      <td>1687.36</td>\n",
       "      <td>8</td>\n",
       "      <td>North</td>\n",
       "      <td>Mobile</td>\n",
       "      <td>48</td>\n",
       "      <td>2.39</td>\n",
       "      <td>False</td>\n",
       "      <td>high</td>\n",
       "    </tr>\n",
       "    <tr>\n",
       "      <th>998</th>\n",
       "      <td>2025-04-14 15:35:18</td>\n",
       "      <td>Keyboard</td>\n",
       "      <td>10.00</td>\n",
       "      <td>6</td>\n",
       "      <td>North</td>\n",
       "      <td>Mobile</td>\n",
       "      <td>30</td>\n",
       "      <td>6.25</td>\n",
       "      <td>False</td>\n",
       "      <td>low</td>\n",
       "    </tr>\n",
       "    <tr>\n",
       "      <th>999</th>\n",
       "      <td>2025-04-14 15:35:18</td>\n",
       "      <td>Monitor</td>\n",
       "      <td>10.00</td>\n",
       "      <td>7</td>\n",
       "      <td>South</td>\n",
       "      <td>Mobile</td>\n",
       "      <td>50</td>\n",
       "      <td>14.62</td>\n",
       "      <td>False</td>\n",
       "      <td>low</td>\n",
       "    </tr>\n",
       "  </tbody>\n",
       "</table>\n",
       "</div>"
      ],
      "text/plain": [
       "               timestamp   product    price  clicks region device_type  \\\n",
       "995  2025-04-14 15:35:18  Keyboard    10.00       7   East      Tablet   \n",
       "996  2025-04-14 15:35:18   Monitor    10.00      10  North      Mobile   \n",
       "997  2025-04-14 15:35:18    Laptop  1687.36       8  North      Mobile   \n",
       "998  2025-04-14 15:35:18  Keyboard    10.00       6  North      Mobile   \n",
       "999  2025-04-14 15:35:18   Monitor    10.00       7  South      Mobile   \n",
       "\n",
       "     user_age  session_time  is_returning_user value  \n",
       "995        38         15.47               True   low  \n",
       "996        31          3.83              False   low  \n",
       "997        48          2.39              False  high  \n",
       "998        30          6.25              False   low  \n",
       "999        50         14.62              False   low  "
      ]
     },
     "execution_count": 6,
     "metadata": {},
     "output_type": "execute_result"
    }
   ],
   "source": [
    "def generate_dataset(n=1000):\n",
    "    return pd.DataFrame([simulate_entry() for _ in range(n)])\n",
    "\n",
    "# Generate and preview\n",
    "df = generate_dataset(1000)\n",
    "df.tail()"
   ]
  },
  {
   "cell_type": "code",
   "execution_count": 7,
   "id": "8433633b",
   "metadata": {},
   "outputs": [
    {
     "data": {
      "text/plain": [
       "(1000, 10)"
      ]
     },
     "execution_count": 7,
     "metadata": {},
     "output_type": "execute_result"
    }
   ],
   "source": [
    "df.shape"
   ]
  },
  {
   "cell_type": "code",
   "execution_count": 8,
   "id": "825e50f4",
   "metadata": {},
   "outputs": [
    {
     "name": "stdout",
     "output_type": "stream",
     "text": [
      "<class 'pandas.core.frame.DataFrame'>\n",
      "RangeIndex: 1000 entries, 0 to 999\n",
      "Data columns (total 10 columns):\n",
      " #   Column             Non-Null Count  Dtype  \n",
      "---  ------             --------------  -----  \n",
      " 0   timestamp          1000 non-null   object \n",
      " 1   product            1000 non-null   object \n",
      " 2   price              1000 non-null   float64\n",
      " 3   clicks             1000 non-null   int64  \n",
      " 4   region             1000 non-null   object \n",
      " 5   device_type        1000 non-null   object \n",
      " 6   user_age           1000 non-null   int64  \n",
      " 7   session_time       1000 non-null   float64\n",
      " 8   is_returning_user  1000 non-null   bool   \n",
      " 9   value              1000 non-null   object \n",
      "dtypes: bool(1), float64(2), int64(2), object(5)\n",
      "memory usage: 71.4+ KB\n"
     ]
    }
   ],
   "source": [
    "df.info()"
   ]
  },
  {
   "cell_type": "code",
   "execution_count": 9,
   "id": "b328a823",
   "metadata": {},
   "outputs": [
    {
     "data": {
      "text/plain": [
       "0"
      ]
     },
     "execution_count": 9,
     "metadata": {},
     "output_type": "execute_result"
    }
   ],
   "source": [
    "df.duplicated().sum()"
   ]
  },
  {
   "cell_type": "code",
   "execution_count": 10,
   "id": "8fd35201",
   "metadata": {},
   "outputs": [
    {
     "data": {
      "text/plain": [
       "timestamp            0\n",
       "product              0\n",
       "price                0\n",
       "clicks               0\n",
       "region               0\n",
       "device_type          0\n",
       "user_age             0\n",
       "session_time         0\n",
       "is_returning_user    0\n",
       "value                0\n",
       "dtype: int64"
      ]
     },
     "execution_count": 10,
     "metadata": {},
     "output_type": "execute_result"
    }
   ],
   "source": [
    "df.isnull().sum()"
   ]
  },
  {
   "cell_type": "code",
   "execution_count": 11,
   "id": "c6d6c1bc",
   "metadata": {},
   "outputs": [
    {
     "data": {
      "text/plain": [
       "value\n",
       "low     788\n",
       "high    212\n",
       "Name: count, dtype: int64"
      ]
     },
     "execution_count": 11,
     "metadata": {},
     "output_type": "execute_result"
    }
   ],
   "source": [
    "df.value.value_counts()"
   ]
  },
  {
   "cell_type": "code",
   "execution_count": null,
   "id": "91a8d5ec",
   "metadata": {},
   "outputs": [],
   "source": [
    "#Saving the dataset\n",
    "df.to_csv(\"realtime_sales.csv\")"
   ]
  },
  {
   "cell_type": "markdown",
   "id": "1642842c",
   "metadata": {},
   "source": [
    "#### 🧹 Preprocessing "
   ]
  },
  {
   "cell_type": "code",
   "execution_count": null,
   "id": "7e041d59",
   "metadata": {},
   "outputs": [],
   "source": [
    "\n",
    "X = df.drop(columns=[\"timestamp\", \"value\"])  # Features\n",
    "y = df[\"value\"]  # Target\n",
    "\n"
   ]
  },
  {
   "cell_type": "code",
   "execution_count": 14,
   "id": "a15af79b",
   "metadata": {},
   "outputs": [],
   "source": [
    "# Apply One-Hot Encoding to categorical columns\n",
    "preprocessor = ColumnTransformer(\n",
    "    transformers=[\n",
    "        ('region_device', OneHotEncoder(), ['region', 'device_type']),\n",
    "        ('num_features', 'passthrough', ['price', 'clicks', 'user_age', 'session_time', 'is_returning_user'])\n",
    "    ])\n",
    "\n"
   ]
  },
  {
   "cell_type": "markdown",
   "id": "c6279486",
   "metadata": {},
   "source": [
    "### 🧠 Model building and training"
   ]
  },
  {
   "cell_type": "code",
   "execution_count": 15,
   "id": "aaea152f",
   "metadata": {},
   "outputs": [],
   "source": [
    "# Create a pipeline (preprocessing + classification)\n",
    "model = Pipeline(steps=[\n",
    "    ('preprocessor', preprocessor),\n",
    "    ('classifier', RandomForestClassifier(n_estimators=100, random_state=42))\n",
    "])\n",
    "\n"
   ]
  },
  {
   "cell_type": "code",
   "execution_count": null,
   "id": "fa621736",
   "metadata": {},
   "outputs": [
    {
     "name": "stdout",
     "output_type": "stream",
     "text": [
      "Accuracy: 0.9333333333333333\n",
      "Classification Report:\n",
      "              precision    recall  f1-score   support\n",
      "\n",
      "        high       0.86      0.80      0.83        61\n",
      "         low       0.95      0.97      0.96       239\n",
      "\n",
      "    accuracy                           0.93       300\n",
      "   macro avg       0.91      0.88      0.89       300\n",
      "weighted avg       0.93      0.93      0.93       300\n",
      "\n",
      "Model saved to 'customer_value_model.joblib'\n"
     ]
    }
   ],
   "source": [
    "# Train-Test Split\n",
    "X_train, X_test, y_train, y_test = train_test_split(X, y, test_size=0.3, random_state=42)\n",
    "\n",
    "# Train the model\n",
    "model.fit(X_train, y_train)\n",
    "\n",
    "# Evaluate the model\n",
    "y_pred = model.predict(X_test)\n",
    "print(f\"Accuracy: {accuracy_score(y_test, y_pred)}\")\n",
    "print(\"Classification Report:\")\n",
    "print(classification_report(y_test, y_pred))\n",
    "\n",
    "# Save the trained model using Joblib\n",
    "joblib.dump(model, 'customer_value_model.joblib')\n",
    "print(\"Model saved to 'customer_value_model.joblib'\")"
   ]
  },
  {
   "cell_type": "markdown",
   "id": "85a31736",
   "metadata": {},
   "source": [
    "#### 🔁 Resampling the data"
   ]
  },
  {
   "cell_type": "code",
   "execution_count": null,
   "id": "3f52e4ad",
   "metadata": {},
   "outputs": [
    {
     "name": "stdout",
     "output_type": "stream",
     "text": [
      "Accuracy: 0.9366666666666666\n",
      "Classification Report:\n",
      "              precision    recall  f1-score   support\n",
      "\n",
      "        high       0.83      0.87      0.85        61\n",
      "         low       0.97      0.95      0.96       239\n",
      "\n",
      "    accuracy                           0.94       300\n",
      "   macro avg       0.90      0.91      0.90       300\n",
      "weighted avg       0.94      0.94      0.94       300\n",
      "\n",
      "Model saved to 'resampled_customer_value_model.joblib'\n"
     ]
    }
   ],
   "source": [
    "# Apply RandomOverSampler to balance the classes in the training data\n",
    "from imblearn.over_sampling import RandomOverSampler \n",
    "ros = RandomOverSampler(random_state=42)\n",
    "X_train_resampled, y_train_resampled = ros.fit_resample(X_train, y_train)\n",
    "\n",
    "# Train the model on the resampled dataset\n",
    "model.fit(X_train_resampled, y_train_resampled)\n",
    "\n",
    "# Evaluate the model\n",
    "y_pred = model.predict(X_test)\n",
    "print(f\"Accuracy: {accuracy_score(y_test, y_pred)}\")\n",
    "print(\"Classification Report:\")\n",
    "print(classification_report(y_test, y_pred))\n",
    "\n",
    "# Save the trained model using Joblib\n",
    "joblib.dump(model, 'resampled_customer_value_model.joblib')\n",
    "print(\"Model saved to 'resampled_customer_value_model.joblib'\")"
   ]
  },
  {
   "cell_type": "code",
   "execution_count": null,
   "id": "cf84e5f1",
   "metadata": {},
   "outputs": [],
   "source": []
  }
 ],
 "metadata": {
  "kernelspec": {
   "display_name": "base",
   "language": "python",
   "name": "python3"
  },
  "language_info": {
   "codemirror_mode": {
    "name": "ipython",
    "version": 3
   },
   "file_extension": ".py",
   "mimetype": "text/x-python",
   "name": "python",
   "nbconvert_exporter": "python",
   "pygments_lexer": "ipython3",
   "version": "3.12.7"
  }
 },
 "nbformat": 4,
 "nbformat_minor": 5
}
